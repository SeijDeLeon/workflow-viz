{
 "cells": [
  {
   "cell_type": "code",
   "execution_count": null,
   "metadata": {},
   "outputs": [],
   "source": [
    "import os\n",
    "\n",
    "import numpy as np\n",
    "from dotenv import load_dotenv\n",
    "from tiled.client import from_uri\n",
    "from tiled.client.array import ArrayClient\n",
    "from tiled.client.container import Container\n",
    "\n",
    "import pandas as pd\n",
    "# from tiled.client.cache import Cache\n",
    "\n",
    "load_dotenv()"
   ]
  },
  {
   "cell_type": "code",
   "execution_count": null,
   "metadata": {},
   "outputs": [],
   "source": [
    "\n",
    "# Initialize the Tiled server\n",
    "TILED_URI = os.getenv(\"TILED_URI\")\n",
    "TILED_API_KEY = os.getenv(\"TILED_API_KEY\")\n",
    "\n",
    "client = from_uri(TILED_URI, api_key=TILED_API_KEY)\n",
    "TILED_BASE_URI = client.uri\n"
   ]
  },
  {
   "cell_type": "code",
   "execution_count": null,
   "metadata": {},
   "outputs": [],
   "source": [
    "experiment_name = \"NaCl_2_10\"\n",
    "new_experiment_csv_filename = experiment_name+\".csv\"\n",
    "\n",
    "#Create an empty dataframe with scan name and 3 columns - polymer ratio A, polymer ratio B, Swell ratio\n",
    "df = pd.DataFrame(columns=['scan_uri', 'polymer_ratio_A', 'polymer_ratio_B', 'swell_ratio', 'fraction_A', 'fraction_B', 'fraction_C']) \n",
    "\n"
   ]
  },
  {
   "cell_type": "code",
   "execution_count": null,
   "metadata": {},
   "outputs": [],
   "source": [
    "df = pd.DataFrame({'scan_uri': ['0_A0p160_A0p160_sfloat_2m'], 'polymer_ratio_A': [''], 'polymer_ratio_B': [''], 'swell_ratio': [''], 'fraction_A': [''], 'fraction_B': [''], 'fraction_C': ['']})\n",
    "\n"
   ]
  },
  {
   "cell_type": "code",
   "execution_count": null,
   "metadata": {},
   "outputs": [],
   "source": [
    "#Creating a new node for the new experiment\n",
    "processed_experiment_names_container = client[\"processed\"]\n",
    "if experiment_name not in processed_experiment_names_container:\n",
    "    current_container_client = processed_experiment_names_container.create_container(\n",
    "                key=experiment_name\n",
    "            )"
   ]
  },
  {
   "cell_type": "code",
   "execution_count": null,
   "metadata": {},
   "outputs": [],
   "source": [
    "from tiled.client.node import Node\n",
    "from tiled.structures.data_source import DataSource\n",
    "from tiled.structures.table import TableStructure"
   ]
  },
  {
   "cell_type": "code",
   "execution_count": null,
   "metadata": {},
   "outputs": [],
   "source": [
    "from tiled.adapters.csv import read_csv"
   ]
  },
  {
   "cell_type": "code",
   "execution_count": null,
   "metadata": {},
   "outputs": [],
   "source": [
    "from tiled.adapters.hdf5 import HDF5Adapter\n",
    "from tiled.client import from_uri\n",
    "from tiled.structures.array import ArrayStructure, BuiltinDtype\n",
    "from tiled.structures.core import Spec, StructureFamily\n",
    "from tiled.structures.data_source import Asset, DataSource, Management\n",
    "from tiled.utils import ensure_uri"
   ]
  },
  {
   "cell_type": "code",
   "execution_count": null,
   "metadata": {},
   "outputs": [],
   "source": [
    "from tiled.utils import path_from_uri"
   ]
  },
  {
   "cell_type": "code",
   "execution_count": null,
   "metadata": {},
   "outputs": [],
   "source": [
    "current_experiment_client = processed_experiment_names_container[experiment_name]\n"
   ]
  },
  {
   "cell_type": "code",
   "execution_count": null,
   "metadata": {},
   "outputs": [],
   "source": [
    "output_file_path = \"/Users/rajavyshnavisriramoju/Desktop/Autonomous_SAXS_Sim/2024_03_25/processed/NaCl_1_50_subset/NaCl_1_50_subset.csv\"\n",
    "\n",
    "df.to_csv(output_file_path, index=False)\n",
    "\n",
    "adapter = read_csv(ensure_uri(output_file_path))\n",
    "# This will also include the function parameters\n",
    "\n",
    "current_experiment_client.new(\n",
    "    key=experiment_name,\n",
    "    structure_family=adapter.structure_family,\n",
    "    data_sources=[\n",
    "        DataSource(\n",
    "            management=Management.external,\n",
    "            mimetype=\"text/csv\",\n",
    "            structure_family=adapter.structure_family,\n",
    "            structure=adapter.structure(),\n",
    "            assets=[\n",
    "                Asset(\n",
    "                    data_uri=ensure_uri(output_file_path),\n",
    "                    is_directory=False,\n",
    "                    parameter=\"data_uri\",\n",
    "                )\n",
    "            ],\n",
    "        ),\n",
    "    ],\n",
    "    specs=adapter.specs,\n",
    ")"
   ]
  },
  {
   "cell_type": "code",
   "execution_count": null,
   "metadata": {},
   "outputs": [],
   "source": [
    "current_experiment_client[experiment_name].read()"
   ]
  }
 ],
 "metadata": {
  "kernelspec": {
   "display_name": "workflow-viz-env",
   "language": "python",
   "name": "python3"
  },
  "language_info": {
   "codemirror_mode": {
    "name": "ipython",
    "version": 3
   },
   "file_extension": ".py",
   "mimetype": "text/x-python",
   "name": "python",
   "nbconvert_exporter": "python",
   "pygments_lexer": "ipython3",
   "version": "3.9.6"
  }
 },
 "nbformat": 4,
 "nbformat_minor": 2
}
